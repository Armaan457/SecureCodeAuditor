{
 "cells": [
  {
   "cell_type": "code",
   "execution_count": 1,
   "metadata": {},
   "outputs": [],
   "source": [
    "import os\n",
    "from langchain_google_genai import ChatGoogleGenerativeAI\n",
    "from typing import List, Dict\n",
    "from typing_extensions import TypedDict\n",
    "from langgraph.graph import StateGraph"
   ]
  },
  {
   "cell_type": "code",
   "execution_count": 3,
   "metadata": {},
   "outputs": [],
   "source": [
    "from dotenv import load_dotenv\n",
    "load_dotenv() \n",
    "\n",
    "gemini_api_key = os.getenv('GEMINI_API_KEY')\n",
    "gemini_api_key_2 = os.getenv('GEMINI_API_KEY_2')\n",
    "gemini_api_key_3 = os.getenv('GEMINI_API_KEY_3')\n",
    "gemini_api_key_4 = os.getenv('GEMINI_API_KEY_4')\n",
    "gemini_api_key_5 = os.getenv('GEMINI_API_KEY_5')"
   ]
  },
  {
   "cell_type": "code",
   "execution_count": 26,
   "metadata": {},
   "outputs": [],
   "source": [
    "MODELS = [\n",
    "    {\n",
    "        \"name\": \"gemini-1.5-flash-8b\",\n",
    "        \"api_key\": gemini_api_key,\n",
    "        \"task\": f\"Inspect the code for vulnerabilities in XML processing and API configurations. Look for XML External Entity (XXE) attacks, insecure API usage, and Security Misconfigurations. Provide the output STRICTLY in the specified structure ONLY, no markdown or other text needed. Required output structure {{\\\"findings\\\":[{{\\\"vulnerability_type\\\":\\\"XML External Entity (XXE)\\\",\\\"code_snippet\\\":\\\"etree.parse(user_input)\\\",\\\"recommendation\\\":\\\"Disable external entity resolution when processing XML files.\\\"}},{{\\\"vulnerability_type\\\":\\\"API Misuse\\\",\\\"code_snippet\\\":\\\"response = requests.post(api_url, data=user_data)\\\",\\\"recommendation\\\":\\\"Use secure authentication and validate API responses.\\\"}}]}}. In case no vulnerability found return findings empty\"\n",
    "    },\n",
    "    {\n",
    "        \"name\": \"gemini-1.5-flash\",\n",
    "        \"api_key\": gemini_api_key_2,\n",
    "        \"task\": f\"Analyze the code for access control vulnerabilities. Look for Insecure Direct Object References (IDOR), Host Header Injection, and Subdomain Takeover risks. Identify instances where access control mechanisms are improperly implemented. Provide the output STRICTLY in the specified structure ONLY, no markdown or other text needed. Required output structure {{\\\"findings\\\":[{{\\\"vulnerability_type\\\":\\\"Insecure Direct Object Reference (IDOR)\\\",\\\"code_snippet\\\":\\\"GET /user/123\\\",\\\"recommendation\\\":\\\"Implement access controls to verify the requester is authorized to access the resource.\\\"}},{{\\\"vulnerability_type\\\":\\\"Host Header Injection\\\",\\\"code_snippet\\\":\\\"url = request.headers['Host'] + '/login'\\\",\\\"recommendation\\\":\\\"Validate and sanitize the Host header to prevent injection attacks.\\\"}}]}}. In case no vulnerability found return findings empty\"\n",
    "    },\n",
    "    {\n",
    "        \"name\": \"gemini-1.5-flash-8b\",\n",
    "        \"api_key\": gemini_api_key_3,\n",
    "        \"task\": f\"Scan the code for vulnerabilities related to file access. Detect instances of Path Traversal, Local File Inclusion (LFI), and Remote File Inclusion (RFI). Focus on functions that handle file paths or include external files. Provide the output STRICTLY in the specified structure ONLY, no markdown or other text needed. Required output structure {{\\\"findings\\\":[{{\\\"vulnerability_type\\\":\\\"Path Traversal\\\",\\\"code_snippet\\\":\\\"open('../../etc/passwd', 'r')\\\",\\\"recommendation\\\":\\\"Validate file paths and restrict access to specific directories.\\\"}},{{\\\"vulnerability_type\\\":\\\"Local File Inclusion (LFI)\\\",\\\"code_snippet\\\":\\\"exec(open(user_input).read())\\\",\\\"recommendation\\\":\\\"Ensure user input is validated and does not reference sensitive files.\\\"}}]}}. In case no vulnerability found return findings empty\"\n",
    "    },\n",
    "    {\n",
    "        \"name\": \"gemini-1.5-flash\",\n",
    "        \"api_key\": gemini_api_key_4,\n",
    "        \"task\": f\"Examine the code for client-side vulnerabilities. Specifically, identify potential Cross-Site Scripting (XSS), Clickjacking, and Content Spoofing issues. Look for improper handling of user-generated content or unsafe rendering practices. Provide the output STRICTLY in the specified structure ONLY, no markdown or other text needed. Required output structure {{\\\"findings\\\":[{{\\\"vulnerability_type\\\":\\\"Cross-Site Scripting (XSS)\\\",\\\"code_snippet\\\":\\\"{{{{ user_input }}}}\\\",\\\"recommendation\\\":\\\"Escape or sanitize user-generated content before rendering.\\\"}},{{\\\"vulnerability_type\\\":\\\"Clickjacking\\\",\\\"code_snippet\\\":\\\"response.headers['X-Frame-Options'] = 'ALLOW'\\\",\\\"recommendation\\\":\\\"Set 'X-Frame-Options' to 'DENY' or 'SAMEORIGIN' to prevent clickjacking.\\\"}}]}}. In case no vulnerability found return findings empty\"\n",
    "    },\n",
    "    {\n",
    "        \"name\": \"gemini-1.5-flash\",\n",
    "        \"api_key\": gemini_api_key_5,\n",
    "        \"task\": f\"Analyze the provided code for vulnerabilities related to user input handling. Specifically, detect cases where user input is directly passed into SQL queries, system commands, or dynamic code execution without validation or sanitization. Focus on identifying potential SQL Injection, Command Injection, and Code Injection vulnerabilities. Provide the output STRICTLY in the specified structure ONLY, no markdown or other text needed. Required output structure {{\\\"findings\\\":[{{\\\"vulnerability_type\\\":\\\"SQL Injection\\\",\\\"code_snippet\\\":\\\"cursor.execute('SELECT * FROM users WHERE id = ' + user_input)\\\",\\\"recommendation\\\":\\\"Use parameterized queries to prevent SQL injection.\\\"}},{{\\\"vulnerability_type\\\":\\\"Command Injection\\\",\\\"code_snippet\\\":\\\"os.system('ping ' + user_input)\\\",\\\"recommendation\\\":\\\"Validate and sanitize user input before passing it to system commands.\\\"}}]}}. In case no vulnerability found return findings empty\"\n",
    "    }\n",
    "]"
   ]
  },
  {
   "cell_type": "code",
   "execution_count": 33,
   "metadata": {},
   "outputs": [],
   "source": [
    "AGENTS = [\"XML and API Agent\", \"Access Control Agent\", \"File Access Agent\", \"Client-side Agent\", \"User Input Agent\"]"
   ]
  },
  {
   "cell_type": "code",
   "execution_count": 55,
   "metadata": {},
   "outputs": [],
   "source": [
    "class GraphState(TypedDict):\n",
    "    input_text: str\n",
    "    results: List[Dict]"
   ]
  },
  {
   "cell_type": "code",
   "execution_count": 67,
   "metadata": {},
   "outputs": [],
   "source": [
    "import concurrent.futures\n",
    "\n",
    "def analyze_text(state: GraphState) -> GraphState:\n",
    "    results = []\n",
    "\n",
    "    def invoke_model(model_info):\n",
    "        model = ChatGoogleGenerativeAI(\n",
    "            model=model_info[\"name\"], google_api_key=model_info[\"api_key\"]\n",
    "        )      \n",
    "        response = model.invoke(\n",
    "            f\"Task: {model_info['task']}\\nAnalyze the following input:\\n{state['input_text']}\"\n",
    "        )\n",
    "        return {\"output\": response}\n",
    "\n",
    "    with concurrent.futures.ThreadPoolExecutor() as executor:\n",
    "        future_to_agent = {executor.submit(invoke_model, model_info): model_info for model_info in MODELS}\n",
    "        for future in concurrent.futures.as_completed(future_to_agent):\n",
    "            agent_name = future_to_agent[future]\n",
    "            try:\n",
    "                result = future.result()\n",
    "                results.append(result)\n",
    "            except Exception as exc:\n",
    "                print(f\"{agent_name} generated an exception: {exc}\")\n",
    "\n",
    "    print(\"\\n\")\n",
    "    state[\"results\"] = results\n",
    "    return state\n",
    "\n",
    "def merge_results(state: GraphState) -> Dict:\n",
    "    findings = state.get(\"results\", [])\n",
    "    final_report = {\n",
    "        \"findings\": findings\n",
    "    }\n",
    "    return final_report"
   ]
  },
  {
   "cell_type": "code",
   "execution_count": 68,
   "metadata": {},
   "outputs": [],
   "source": [
    "graph = StateGraph(GraphState)\n",
    "graph.add_node(\"analyze\", analyze_text)\n",
    "graph.add_node(\"merge\", merge_results)\n",
    "graph.set_entry_point(\"analyze\")\n",
    "graph.add_edge(\"analyze\", \"merge\")\n",
    "app = graph.compile()"
   ]
  },
  {
   "cell_type": "code",
   "execution_count": 30,
   "metadata": {},
   "outputs": [
    {
     "data": {
      "image/png": "[encoded data removed]",
      "text/plain": [
       "<IPython.core.display.Image object>"
      ]
     },
     "metadata": {},
     "output_type": "display_data"
    }
   ],
   "source": [
    "from IPython.display import display, Image\n",
    "try:\n",
    "    display(Image(app.get_graph().draw_mermaid_png()))\n",
    "except:\n",
    "    pass"
   ]
  },
  {
   "cell_type": "code",
   "execution_count": 107,
   "metadata": {},
   "outputs": [],
   "source": [
    "import json\n",
    "import re\n",
    "\n",
    "def extract_json(target):\n",
    "    \n",
    "    json_pattern = r'\\{(?:[^{}]|(?:\\{[^{}]*\\}))*\\}'\n",
    "    json_matches = re.findall(json_pattern, target, re.DOTALL)\n",
    "\n",
    "    extracted_jsons = []\n",
    "\n",
    "    for match in json_matches:\n",
    "        try:\n",
    "            json_data = json.loads(match)\n",
    "            if not (isinstance(json_data, dict) and json_data.get('findings') == []):\n",
    "                extracted_jsons.append(json_data)        \n",
    "        except json.JSONDecodeError as e:\n",
    "            print(f\"Error decoding JSON: {e}\")\n",
    "            print(f\"Problematic JSON String: {match}\")\n",
    "    \n",
    "    return extracted_jsons\n"
   ]
  },
  {
   "cell_type": "code",
   "execution_count": 110,
   "metadata": {},
   "outputs": [
    {
     "name": "stdout",
     "output_type": "stream",
     "text": [
      "combination/some1.py\n",
      "\n",
      "\n",
      "combination/some2.py\n",
      "\n",
      "\n",
      "combination/some3.py\n",
      "\n",
      "\n"
     ]
    }
   ],
   "source": [
    "import zipfile\n",
    "\n",
    "def analyze_zip_file(zip_file_path):\n",
    "    all_findings = {}\n",
    "    allowed_extensions = {'.py', '.js', '.ts', '.json', '.jsx', '.tsx', '.java', '.xml', '.html', '.css', '.go', '.c', '.cpp'}\n",
    "    \n",
    "    with zipfile.ZipFile(zip_file_path, 'r') as zip_ref:\n",
    "        for file_name in zip_ref.namelist():\n",
    "            if not file_name.endswith('/') and os.path.splitext(file_name)[1].lower() in allowed_extensions:\n",
    "                with zip_ref.open(file_name) as file:\n",
    "                    file_content = file.read().decode('utf-8')\n",
    "                print(file_name)\n",
    "                try:\n",
    "                    inputs = {\"input_text\": file_content}\n",
    "                    result = app.invoke(inputs)\n",
    "                    \n",
    "                    findings = []\n",
    "                    for output in result['results']:\n",
    "                        findings.extend(extract_json(output['output'].content))\n",
    "                    \n",
    "                    all_findings[file_name] =  findings\n",
    "                except Exception as e:\n",
    "                    print(e)\n",
    "    \n",
    "    return all_findings\n",
    "\n",
    "zip_file_path = 'test_files/combination.zip'  \n",
    "findings = analyze_zip_file(zip_file_path)"
   ]
  },
  {
   "cell_type": "code",
   "execution_count": 117,
   "metadata": {},
   "outputs": [
    {
     "data": {
      "text/plain": [
       "{'combination/some1.py': [{'findings': [{'vulnerability_type': 'XML External Entity (XXE)',\n",
       "     'code_snippet': 'tree = ET.parse(user_input)',\n",
       "     'recommendation': 'Disable external entity resolution when processing XML files.'}]},\n",
       "  {'findings': [{'vulnerability_type': 'Cross-Site Scripting (XSS)',\n",
       "     'code_snippet': 'ET.parse(user_input)',\n",
       "     'recommendation': 'Validate and sanitize XML input to prevent XML External Entities (XXE) attacks which can lead to XSS.'}]}],\n",
       " 'combination/some2.py': [{'findings': [{'vulnerability_type': 'API Misuse',\n",
       "     'code_snippet': 'response = requests.post(api_url, data=user_data)',\n",
       "     'recommendation': 'Use secure authentication and validate API responses.'}]},\n",
       "  {'vulnerability_type': 'Insecure Direct Object Reference (IDOR)',\n",
       "   'code_snippet': '@app.route(\\'/user/<int:user_id>\\')\\ndef get_user(user_id):\\n    return f\"User ID: {user_id}\"',\n",
       "   'recommendation': 'Implement access controls to verify the requester is authorized to access the resource.  For example, check if the user is logged in and has permission to view the specified user.'}],\n",
       " 'combination/some3.py': [{'vulnerability_type': 'SQL Injection',\n",
       "   'code_snippet': 'cursor.execute(f\"SELECT * FROM users WHERE id = {user_input}\")',\n",
       "   'recommendation': 'Use parameterized queries to prevent SQL injection.'},\n",
       "  {'vulnerability_type': 'Command Injection',\n",
       "   'code_snippet': 'os.system(f\"ping {user_input}\")',\n",
       "   'recommendation': 'Validate and sanitize user input before passing it to system commands.'},\n",
       "  {'vulnerability_type': 'Insecure Direct Object Reference (IDOR)',\n",
       "   'code_snippet': 'cursor.execute(f\"SELECT * FROM users WHERE id = {user_input}\")',\n",
       "   'recommendation': 'Implement parameterized queries to prevent SQL injection and ensure only authorized users can access specific records.  Validate user_input to prevent IDOR.'},\n",
       "  {'vulnerability_type': 'Command Injection',\n",
       "   'code_snippet': 'os.system(f\"ping {user_input}\")',\n",
       "   'recommendation': 'Avoid using os.system. Use the subprocess module with proper input sanitization and validation to prevent command injection.'},\n",
       "  {'vulnerability_type': 'Cross-Site Scripting (XSS)',\n",
       "   'code_snippet': 'f\"SELECT * FROM users WHERE id = {user_input}\"',\n",
       "   'recommendation': 'Use parameterized queries to prevent SQL injection and XSS.  Never directly embed user input into SQL queries.'},\n",
       "  {'vulnerability_type': 'Command Injection',\n",
       "   'code_snippet': 'os.system(f\"ping {user_input}\")',\n",
       "   'recommendation': 'Avoid using os.system. Use the subprocess module with proper input sanitization and escaping to prevent command injection.'}]}"
      ]
     },
     "execution_count": 117,
     "metadata": {},
     "output_type": "execute_result"
    }
   ],
   "source": [
    "findings"
   ]
  }
 ],
 "metadata": {
  "kernelspec": {
   "display_name": "env",
   "language": "python",
   "name": "python3"
  },
  "language_info": {
   "codemirror_mode": {
    "name": "ipython",
    "version": 3
   },
   "file_extension": ".py",
   "mimetype": "text/x-python",
   "name": "python",
   "nbconvert_exporter": "python",
   "pygments_lexer": "ipython3",
   "version": "3.12.0"
  }
 },
 "nbformat": 4,
 "nbformat_minor": 2
}
