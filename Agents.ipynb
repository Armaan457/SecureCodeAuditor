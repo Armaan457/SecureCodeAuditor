{
  "cells": [
    {
      "cell_type": "markdown",
      "metadata": {
        "id": "SgkKTGNUzm1H"
      },
      "source": []
    },
    {
      "cell_type": "code",
      "execution_count": null,
      "metadata": {
        "colab": {
          "base_uri": "https://localhost:8080/"
        },
        "id": "o6AbfnsTvoYe",
        "outputId": "f4a0a8e8-0fe1-4854-e70a-8e199e0aa0c1"
      },
      "outputs": [],
      "source": [
        "%pip install langchain langgraph langchain_community langchain_google_genai"
      ]
    },
    {
      "cell_type": "code",
      "execution_count": 2,
      "metadata": {
        "id": "nnm32KigvFzz"
      },
      "outputs": [
        {
          "name": "stderr",
          "output_type": "stream",
          "text": [
            "g:\\GDSC_AI_Agents\\env\\Lib\\site-packages\\tqdm\\auto.py:21: TqdmWarning: IProgress not found. Please update jupyter and ipywidgets. See https://ipywidgets.readthedocs.io/en/stable/user_install.html\n",
            "  from .autonotebook import tqdm as notebook_tqdm\n"
          ]
        }
      ],
      "source": [
        "import os\n",
        "from langchain_google_genai import ChatGoogleGenerativeAI\n",
        "from typing import List, Dict\n",
        "from typing_extensions import TypedDict\n",
        "from langgraph.graph import StateGraph\n",
        "import os"
      ]
    },
    {
      "cell_type": "code",
      "execution_count": 3,
      "metadata": {
        "id": "3t7RU3VQw3sL"
      },
      "outputs": [],
      "source": [
        "from dotenv import load_dotenv\n",
        "load_dotenv() \n",
        "gemini_api_key = os.getenv('GEMINI_API_KEY')\n",
        "gemini_api_key2 = os.getenv('GEMINI_API_KEY_2')\n",
        "gemini_api_key3 = os.getenv('GEMINI_API_KEY_3')\n",
        "gemini_api_key4 = os.getenv('GEMINI_API_KEY_4')\n",
        "gemini_api_key5 = os.getenv('GEMINI_API_KEY_5')"
      ]
    },
    {
      "cell_type": "code",
      "execution_count": 306,
      "metadata": {
        "id": "xmD2kIuAvSgv"
      },
      "outputs": [],
      "source": [
        "MODELS = [\n",
        "    {\n",
        "        \"name\": \"gemini-1.5-flash-8b\",\n",
        "        \"api_key\": gemini_api_key,\n",
        "        \"task\": f\"Inspect the code for vulnerabilities in XML processing and API configurations. Look for XML External Entity (XXE) attacks, insecure API usage, and Security Misconfigurations. Provide the output STRICTLY in the specified structure ONLY, no markdown or other text needed. Required output structure {{\\\"agent\\\":\\\"XML and API Agent\\\",\\\"findings\\\":[{{\\\"vulnerability_type\\\":\\\"XML External Entity (XXE)\\\",\\\"file\\\":\\\"parser.py\\\",\\\"line_number\\\":22,\\\"code_snippet\\\":\\\"etree.parse(user_input)\\\",\\\"recommendation\\\":\\\"Disable external entity resolution when processing XML files.\\\"}},{{\\\"vulnerability_type\\\":\\\"API Misuse\\\",\\\"file\\\":\\\"api_handler.py\\\",\\\"line_number\\\":48,\\\"code_snippet\\\":\\\"response = requests.post(api_url, data=user_data)\\\",\\\"recommendation\\\":\\\"Use secure authentication and validate API responses.\\\"}}]}}\"\n",
        "    },\n",
        "    {\n",
        "        \"name\": \"gemini-1.5-flash\",\n",
        "        \"api_key\": gemini_api_key2,\n",
        "        \"task\": f\"Analyze the code for access control vulnerabilities. Look for Insecure Direct Object References (IDOR), Host Header Injection, and Subdomain Takeover risks. Identify instances where access control mechanisms are improperly implemented. Provide the output STRICTLY in the specified structure ONLY, no markdown or other text needed.Required output structure {{\\\"agent\\\":\\\"Access Control Agent\\\",\\\"findings\\\":[{{\\\"vulnerability_type\\\":\\\"Insecure Direct Object Reference (IDOR)\\\",\\\"file\\\":\\\"routes.py\\\",\\\"line_number\\\":12,\\\"code_snippet\\\":\\\"GET /user/123\\\",\\\"recommendation\\\":\\\"Implement access controls to verify the requester is authorized to access the resource.\\\"}},{{\\\"vulnerability_type\\\":\\\"Host Header Injection\\\",\\\"file\\\":\\\"server.py\\\",\\\"line_number\\\":55,\\\"code_snippet\\\":\\\"url = request.headers['Host'] + '/login'\\\",\\\"recommendation\\\":\\\"Validate and sanitize the Host header to prevent injection attacks.\\\"}}]}}\"\n",
        "    },\n",
        "    {\n",
        "        \"name\": \"gemini-1.5-flash-8b\",\n",
        "        \"api_key\": gemini_api_key3,\n",
        "        \"task\": f\"Scan the code for vulnerabilities related to file access. Detect instances of Path Traversal, Local File Inclusion (LFI), and Remote File Inclusion (RFI). Focus on functions that handle file paths or include external files. Provide the output STRICTLY in the specified structureONLY, no markdown or other text needed. Required output structure {{\\\"agent\\\":\\\"File Access Agent\\\",\\\"findings\\\":[{{\\\"vulnerability_type\\\":\\\"Path Traversal\\\",\\\"file\\\":\\\"file_handler.py\\\",\\\"line_number\\\":18,\\\"code_snippet\\\":\\\"open('../../etc/passwd', 'r')\\\",\\\"recommendation\\\":\\\"Validate file paths and restrict access to specific directories.\\\"}},{{\\\"vulnerability_type\\\":\\\"Local File Inclusion (LFI)\\\",\\\"file\\\":\\\"app.py\\\",\\\"line_number\\\":30,\\\"code_snippet\\\":\\\"exec(open(user_input).read())\\\",\\\"recommendation\\\":\\\"Ensure user input is validated and does not reference sensitive files.\\\"}}]}}\"\n",
        "    },\n",
        "    {\n",
        "        \"name\": \"gemini-1.5-flash\",\n",
        "        \"api_key\": gemini_api_key4,\n",
        "        \"task\": f\"Examine the code for client-side vulnerabilities. Specifically, identify potential Cross-Site Scripting (XSS), Clickjacking, and Content Spoofing issues. Look for improper handling of user-generated content or unsafe rendering practices. Provide the output STRICTLY in the specified structure ONLY, no markdown or other text needed. Required output structure {{\\\"agent\\\":\\\"Client-Side Vulnerability Agent\\\",\\\"findings\\\":[{{\\\"vulnerability_type\\\":\\\"Cross-Site Scripting (XSS)\\\",\\\"file\\\":\\\"templates/home.html\\\",\\\"line_number\\\":8,\\\"code_snippet\\\":\\\"{{{{ user_input }}}}\\\",\\\"recommendation\\\":\\\"Escape or sanitize user-generated content before rendering.\\\"}},{{\\\"vulnerability_type\\\":\\\"Clickjacking\\\",\\\"file\\\":\\\"middleware.py\\\",\\\"line_number\\\":20,\\\"code_snippet\\\":\\\"response.headers['X-Frame-Options'] = 'ALLOW'\\\",\\\"recommendation\\\":\\\"Set 'X-Frame-Options' to 'DENY' or 'SAMEORIGIN' to prevent clickjacking.\\\"}}]}}\"\n",
        "    },\n",
        "    {\n",
        "        \"name\": \"gemini-1.5-flash\",\n",
        "        \"api_key\": gemini_api_key5,\n",
        "        \"task\": f\"Analyze the provided code for vulnerabilities related to user input handling. Specifically, detect cases where user input is directly passed into SQL queries, system commands, or dynamic code execution without validation or sanitization. Focus on identifying potential SQL Injection, Command Injection, and Code Injection vulnerabilities. Provide the output STRICTLY in the specified structure ONLY, no markdown or other text needed. Required output structure {{\\\"agent\\\":\\\"Input Injection Agent\\\",\\\"findings\\\":[{{\\\"vulnerability_type\\\":\\\"SQL Injection\\\",\\\"file\\\":\\\"example.py\\\",\\\"line_number\\\":15,\\\"code_snippet\\\":\\\"cursor.execute('SELECT * FROM users WHERE id = ' + user_input)\\\",\\\"recommendation\\\":\\\"Use parameterized queries to prevent SQL injection.\\\"}},{{\\\"vulnerability_type\\\":\\\"Command Injection\\\",\\\"file\\\":\\\"main.py\\\",\\\"line_number\\\":42,\\\"code_snippet\\\":\\\"os.system('ping ' + user_input)\\\",\\\"recommendation\\\":\\\"Validate and sanitize user input before passing it to system commands.\\\"}}]}}\"\n",
        "    }\n",
        "]"
      ]
    },
    {
      "cell_type": "code",
      "execution_count": 4,
      "metadata": {},
      "outputs": [],
      "source": [
        "MODELS = [\n",
        "    {\n",
        "        \"name\": \"gemini-1.5-flash-8b\",\n",
        "        \"api_key\": gemini_api_key,\n",
        "        \"task\": f\"Inspect the code for vulnerabilities in XML processing and API configurations. Look for XML External Entity (XXE) attacks, insecure API usage, and Security Misconfigurations. Provide the output STRICTLY in the specified structure ONLY, no markdown or other text needed. Required output structure {{\\\"findings\\\":[{{\\\"vulnerability_type\\\":\\\"XML External Entity (XXE)\\\",\\\"code_snippet\\\":\\\"etree.parse(user_input)\\\",\\\"recommendation\\\":\\\"Disable external entity resolution when processing XML files.\\\"}},{{\\\"vulnerability_type\\\":\\\"API Misuse\\\",\\\"code_snippet\\\":\\\"response = requests.post(api_url, data=user_data)\\\",\\\"recommendation\\\":\\\"Use secure authentication and validate API responses.\\\"}}]}}. In case no vulnerability found return findings empty\"\n",
        "    },\n",
        "    {\n",
        "        \"name\": \"gemini-1.5-flash\",\n",
        "        \"api_key\": gemini_api_key2,\n",
        "        \"task\": f\"Analyze the code for access control vulnerabilities. Look for Insecure Direct Object References (IDOR), Host Header Injection, and Subdomain Takeover risks. Identify instances where access control mechanisms are improperly implemented. Provide the output STRICTLY in the specified structure ONLY, no markdown or other text needed. Required output structure {{\\\"findings\\\":[{{\\\"vulnerability_type\\\":\\\"Insecure Direct Object Reference (IDOR)\\\",\\\"code_snippet\\\":\\\"GET /user/123\\\",\\\"recommendation\\\":\\\"Implement access controls to verify the requester is authorized to access the resource.\\\"}},{{\\\"vulnerability_type\\\":\\\"Host Header Injection\\\",\\\"code_snippet\\\":\\\"url = request.headers['Host'] + '/login'\\\",\\\"recommendation\\\":\\\"Validate and sanitize the Host header to prevent injection attacks.\\\"}}]}}. In case no vulnerability found return findings empty\"\n",
        "    },\n",
        "    {\n",
        "        \"name\": \"gemini-1.5-flash-8b\",\n",
        "        \"api_key\": gemini_api_key3,\n",
        "        \"task\": f\"Scan the code for vulnerabilities related to file access. Detect instances of Path Traversal, Local File Inclusion (LFI), and Remote File Inclusion (RFI). Focus on functions that handle file paths or include external files. Provide the output STRICTLY in the specified structure ONLY, no markdown or other text needed. Required output structure {{\\\"findings\\\":[{{\\\"vulnerability_type\\\":\\\"Path Traversal\\\",\\\"code_snippet\\\":\\\"open('../../etc/passwd', 'r')\\\",\\\"recommendation\\\":\\\"Validate file paths and restrict access to specific directories.\\\"}},{{\\\"vulnerability_type\\\":\\\"Local File Inclusion (LFI)\\\",\\\"code_snippet\\\":\\\"exec(open(user_input).read())\\\",\\\"recommendation\\\":\\\"Ensure user input is validated and does not reference sensitive files.\\\"}}]}}. In case no vulnerability found return findings empty\"\n",
        "    },\n",
        "    {\n",
        "        \"name\": \"gemini-1.5-flash\",\n",
        "        \"api_key\": gemini_api_key4,\n",
        "        \"task\": f\"Examine the code for client-side vulnerabilities. Specifically, identify potential Cross-Site Scripting (XSS), Clickjacking, and Content Spoofing issues. Look for improper handling of user-generated content or unsafe rendering practices. Provide the output STRICTLY in the specified structure ONLY, no markdown or other text needed. Required output structure {{\\\"findings\\\":[{{\\\"vulnerability_type\\\":\\\"Cross-Site Scripting (XSS)\\\",\\\"code_snippet\\\":\\\"{{{{ user_input }}}}\\\",\\\"recommendation\\\":\\\"Escape or sanitize user-generated content before rendering.\\\"}},{{\\\"vulnerability_type\\\":\\\"Clickjacking\\\",\\\"code_snippet\\\":\\\"response.headers['X-Frame-Options'] = 'ALLOW'\\\",\\\"recommendation\\\":\\\"Set 'X-Frame-Options' to 'DENY' or 'SAMEORIGIN' to prevent clickjacking.\\\"}}]}}. In case no vulnerability found return findings empty\"\n",
        "    },\n",
        "    {\n",
        "        \"name\": \"gemini-1.5-flash\",\n",
        "        \"api_key\": gemini_api_key5,\n",
        "        \"task\": f\"Analyze the provided code for vulnerabilities related to user input handling. Specifically, detect cases where user input is directly passed into SQL queries, system commands, or dynamic code execution without validation or sanitization. Focus on identifying potential SQL Injection, Command Injection, and Code Injection vulnerabilities. Provide the output STRICTLY in the specified structure ONLY, no markdown or other text needed. Required output structure {{\\\"findings\\\":[{{\\\"vulnerability_type\\\":\\\"SQL Injection\\\",\\\"code_snippet\\\":\\\"cursor.execute('SELECT * FROM users WHERE id = ' + user_input)\\\",\\\"recommendation\\\":\\\"Use parameterized queries to prevent SQL injection.\\\"}},{{\\\"vulnerability_type\\\":\\\"Command Injection\\\",\\\"code_snippet\\\":\\\"os.system('ping ' + user_input)\\\",\\\"recommendation\\\":\\\"Validate and sanitize user input before passing it to system commands.\\\"}}]}}. In case no vulnerability found return findings empty\"\n",
        "    }\n",
        "]"
      ]
    },
    {
      "cell_type": "code",
      "execution_count": 5,
      "metadata": {
        "id": "WA-ybtQ4vdQ2"
      },
      "outputs": [],
      "source": [
        "class GraphState(TypedDict):\n",
        "    input_text: str\n",
        "    results: List[Dict]"
      ]
    },
    {
      "cell_type": "code",
      "execution_count": null,
      "metadata": {
        "id": "nrvkqKjgvgCQ"
      },
      "outputs": [],
      "source": [
        "def analyze_text(state: GraphState) -> GraphState:\n",
        "    results = []\n",
        "    x = 1\n",
        "    for model_info in MODELS:\n",
        "        model = ChatGoogleGenerativeAI(\n",
        "            model=model_info[\"name\"], google_api_key=model_info[\"api_key\"]\n",
        "        )\n",
        "\n",
        "        response = model.invoke(\n",
        "            f\"Task: {model_info['task']}\\nAnalyze the following input:\\n{state['input_text']}\"\n",
        "        )\n",
        "        results.append({\"output\": response})\n",
        "        print(f\"Agent {x} completed!\")\n",
        "        x += 1\n",
        "    print(\"\\n\")\n",
        "    state[\"results\"] = results\n",
        "    return state\n",
        "\n",
        "def merge_results(state: GraphState) -> Dict:\n",
        "    findings = state.get(\"results\", [])\n",
        "    final_report = {\n",
        "        \"findings\": findings\n",
        "    }\n",
        "    return final_report"
      ]
    },
    {
      "cell_type": "code",
      "execution_count": 7,
      "metadata": {
        "id": "9gXr4xdxvjso"
      },
      "outputs": [],
      "source": [
        "graph = StateGraph(GraphState)\n",
        "graph.add_node(\"analyze\", analyze_text)\n",
        "graph.add_node(\"merge\", merge_results)\n",
        "graph.set_entry_point(\"analyze\")\n",
        "graph.add_edge(\"analyze\", \"merge\")\n",
        "app = graph.compile()"
      ]
    },
    {
      "cell_type": "code",
      "execution_count": 8,
      "metadata": {
        "colab": {
          "base_uri": "https://localhost:8080/",
          "height": 251
        },
        "id": "vxE3Pcfm4kZq",
        "outputId": "f4d62826-ccda-4b40-a7a6-454d66ae48cd"
      },
      "outputs": [
        {
          "data": {
            "image/png": "[encoded data removed]",
            "text/plain": [
              "<IPython.core.display.Image object>"
            ]
          },
          "metadata": {},
          "output_type": "display_data"
        }
      ],
      "source": [
        "from IPython.display import display, Image\n",
        "try:\n",
        "    display(Image(app.get_graph().draw_mermaid_png()))\n",
        "except:\n",
        "    pass"
      ]
    },
    {
      "cell_type": "code",
      "execution_count": 347,
      "metadata": {
        "colab": {
          "base_uri": "https://localhost:8080/"
        },
        "id": "289ayTVx40-g",
        "outputId": "19abfdd4-3e27-46b2-abca-39d3f201ea96"
      },
      "outputs": [
        {
          "name": "stdout",
          "output_type": "stream",
          "text": [
            "Agent 1 completed!\n",
            "Agent 2 completed!\n",
            "Agent 3 completed!\n",
            "Agent 4 completed!\n",
            "Agent 5 completed!\n",
            "\n",
            "\n"
          ]
        }
      ],
      "source": [
        "code_to_analyze = \"\"\"\n",
        "from flask import Flask, request, jsonify\n",
        "\n",
        "app = Flask(__name__)\n",
        "\n",
        "# Hardcoded secret API key (for demonstration purposes)\n",
        "SECRET_API_KEY = \"SuperSecretKey123!\"\n",
        "\n",
        "# Route to validate the API key\n",
        "@app.route('/validate', methods=['POST'])\n",
        "def validate():\n",
        "    # Get the API key from the request\n",
        "    provided_key = request.form.get('api_key')\n",
        "    if not provided_key:\n",
        "        return jsonify({\"error\": \"API key missing\"}), 400\n",
        "\n",
        "    # Vulnerable comparison of API keys\n",
        "    if provided_key == SECRET_API_KEY:\n",
        "        return jsonify({\"message\": \"Access granted\"}), 200\n",
        "    else:\n",
        "        return jsonify({\"error\": \"Invalid API key\"}), 403\n",
        "\n",
        "\n",
        "if __name__ == '__main__':\n",
        "    app.run(debug=True)\n",
        "\n",
        "\"\"\"\n",
        "inputs = {\"input_text\": code_to_analyze}\n",
        "\n",
        "# Run the graph\n",
        "try:\n",
        "    result = app.invoke(inputs)\n",
        "except Exception as e:\n",
        "    print(f\"Error: {e}\")\n"
      ]
    },
    {
      "cell_type": "code",
      "execution_count": 9,
      "metadata": {},
      "outputs": [],
      "source": [
        "import json\n",
        "import re\n",
        "\n",
        "def extract_json(target):\n",
        "    \n",
        "    json_pattern = r'\\{(?:[^{}]|(?:\\{[^{}]*\\}))*\\}' #r\"```json\\n(.*?)\\n```\"\n",
        "    json_matches = re.findall(json_pattern, target, re.DOTALL)\n",
        "\n",
        "    extracted_jsons = []\n",
        "\n",
        "    for match in json_matches:\n",
        "        #print(match)\n",
        "        try:\n",
        "            json_data = json.loads(match)\n",
        "            extracted_jsons.append(json_data)\n",
        "        except json.JSONDecodeError as e:\n",
        "            print(f\"Error decoding JSON: {e}\")\n",
        "            print(f\"Problematic JSON String: {match}\")\n",
        "\n",
        "    # for json_data in extracted_jsons:\n",
        "    #     print(json_data)\n",
        "    #     print('\\n')\n",
        "    return extracted_jsons\n"
      ]
    },
    {
      "cell_type": "code",
      "execution_count": null,
      "metadata": {},
      "outputs": [
        {
          "name": "stdout",
          "output_type": "stream",
          "text": [
            "test/app.py\n",
            "Agent 1 completed!\n",
            "Agent 2 completed!\n",
            "Agent 3 completed!\n",
            "Agent 4 completed!\n",
            "Agent 5 completed!\n",
            "\n",
            "\n",
            "test/helper.py\n",
            "Agent 1 completed!\n",
            "Agent 2 completed!\n",
            "Agent 3 completed!\n",
            "Agent 4 completed!\n"
          ]
        },
        {
          "name": "stderr",
          "output_type": "stream",
          "text": [
            "Retrying langchain_google_genai.chat_models._chat_with_retry.<locals>._chat_with_retry in 2.0 seconds as it raised ResourceExhausted: 429 Resource has been exhausted (e.g. check quota)..\n"
          ]
        },
        {
          "name": "stdout",
          "output_type": "stream",
          "text": [
            "Agent 5 completed!\n",
            "\n",
            "\n"
          ]
        }
      ],
      "source": [
        "import zipfile\n",
        "import os\n",
        "\n",
        "def analyze_zip_file(zip_file_path):\n",
        "    all_findings = {}\n",
        "    allowed_extensions = {'.py', '.js', '.ts', '.txt', '.json', '.jsx', '.tsx'}\n",
        "    \n",
        "    with zipfile.ZipFile(zip_file_path, 'r') as zip_ref:\n",
        "        for file_name in zip_ref.namelist():\n",
        "            if not file_name.endswith('/') and os.path.splitext(file_name)[1].lower() in allowed_extensions:\n",
        "                with zip_ref.open(file_name) as file:\n",
        "                    file_content = file.read().decode('utf-8')\n",
        "                print(file_name)\n",
        "                try:\n",
        "                    inputs = {\"input_text\": file_content}\n",
        "                    result = app.invoke(inputs)\n",
        "                    \n",
        "                    #print(result)\n",
        "                    findings = \"\".join(i['output'].content + '\\n\\n' for i in result['results'])\n",
        "                    \n",
        "                    all_findings[file_name] =  extract_json(findings)\n",
        "                except Exception as e:\n",
        "                    print(e)\n",
        "                    return all_findings\n",
        "    \n",
        "    return all_findings\n",
        "\n",
        "zip_file_path = 'test_files/test.zip'  \n",
        "findings = analyze_zip_file(zip_file_path)"
      ]
    },
    {
      "cell_type": "code",
      "execution_count": 375,
      "metadata": {},
      "outputs": [
        {
          "data": {
            "text/plain": [
              "{'test/app.py': [{'findings': [{'vulnerability_type': 'API Misuse',\n",
              "     'code_snippet': 'if provided_key == SECRET_API_KEY:',\n",
              "     'recommendation': 'Do not hardcode API keys. Use environment variables or configuration files.'},\n",
              "    {'vulnerability_type': 'API Misuse',\n",
              "     'code_snippet': 'SECRET_API_KEY = \"SuperSecretKey123!\"',\n",
              "     'recommendation': 'Do not hardcode API keys. Use environment variables or configuration files.'}]},\n",
              "  {'findings': []},\n",
              "  {'findings': []},\n",
              "  {'findings': []},\n",
              "  {'findings': []}],\n",
              " 'test/helper.py': [{'findings': []},\n",
              "  {'findings': []},\n",
              "  {'findings': []},\n",
              "  {'findings': [{'vulnerability_type': 'Cross-Site Scripting (XSS)',\n",
              "     'code_snippet': 'user_input',\n",
              "     'recommendation': 'Escape or sanitize user-generated content before rendering.'}]},\n",
              "  {'findings': []}]}"
            ]
          },
          "execution_count": 375,
          "metadata": {},
          "output_type": "execute_result"
        }
      ],
      "source": [
        "findings"
      ]
    },
    {
      "cell_type": "code",
      "execution_count": null,
      "metadata": {},
      "outputs": [
        {
          "name": "stdout",
          "output_type": "stream",
          "text": [
            "dict_keys(['src', 'src/components', 'src/pages', 'src/types'])\n",
            "Agent 1 completed!\n",
            "Agent 2 completed!\n",
            "Agent 3 completed!\n",
            "Agent 4 completed!\n",
            "Agent 5 completed!\n",
            "\n",
            "\n",
            "Agent 1 completed!\n",
            "Agent 2 completed!\n",
            "Agent 3 completed!\n",
            "Agent 4 completed!\n"
          ]
        },
        {
          "name": "stderr",
          "output_type": "stream",
          "text": [
            "Retrying langchain_google_genai.chat_models._chat_with_retry.<locals>._chat_with_retry in 2.0 seconds as it raised ResourceExhausted: 429 Resource has been exhausted (e.g. check quota)..\n"
          ]
        },
        {
          "name": "stdout",
          "output_type": "stream",
          "text": [
            "Agent 5 completed!\n",
            "\n",
            "\n",
            "Agent 1 completed!\n",
            "Agent 2 completed!\n",
            "Agent 3 completed!\n",
            "Agent 4 completed!\n",
            "Agent 5 completed!\n",
            "\n",
            "\n",
            "Agent 1 completed!\n",
            "Agent 2 completed!\n",
            "Agent 3 completed!\n",
            "Agent 4 completed!\n",
            "Agent 5 completed!\n",
            "\n",
            "\n"
          ]
        }
      ],
      "source": [
        "import zipfile\n",
        "import os\n",
        "from collections import defaultdict\n",
        "\n",
        "def analyze_zip_file(zip_file_path):\n",
        "    all_findings = {}\n",
        "    allowed_extensions = {'.py', '.js', '.ts', '.json', '.jsx', '.tsx'}\n",
        "    folder_contents = defaultdict(str)\n",
        "    \n",
        "    with zipfile.ZipFile(zip_file_path, 'r') as zip_ref:\n",
        "        for file_name in zip_ref.namelist():\n",
        "            if not file_name.endswith('/') and os.path.splitext(file_name)[1].lower() in allowed_extensions:\n",
        "                folder_path = os.path.dirname(file_name)\n",
        "                with zip_ref.open(file_name) as file:\n",
        "                    file_content = file.read().decode('utf-8')\n",
        "                \n",
        "                folder_contents[folder_path] += f\"--- {file_name} ---\\n{file_content}\\n\\n\"\n",
        "    \n",
        "    print(folder_contents.keys())\n",
        "    for folder, merged_content in folder_contents.items():\n",
        "        inputs = {\"input_text\": merged_content}\n",
        "        try:\n",
        "            result = app.invoke(inputs)\n",
        "        \n",
        "            findings = \"\".join(i['output'].content + '\\n\\n' for i in result['results'])\n",
        "        \n",
        "            all_findings[folder] = extract_json(findings)\n",
        "        except Exception as e:\n",
        "            print(e)\n",
        "            return all_findings\n",
        "    \n",
        "    return all_findings\n",
        "\n",
        "zip_file_path = 'test_files/src.zip'  \n",
        "find2 = analyze_zip_file(zip_file_path)\n"
      ]
    },
    {
      "cell_type": "code",
      "execution_count": 11,
      "metadata": {},
      "outputs": [
        {
          "data": {
            "text/plain": [
              "{'src': [{'findings': []},\n",
              "  {'findings': []},\n",
              "  {'findings': []},\n",
              "  {'findings': []},\n",
              "  {'findings': []}],\n",
              " 'src/components': [{'findings': []},\n",
              "  {'findings': []},\n",
              "  {'findings': []},\n",
              "  {'findings': []},\n",
              "  {'findings': []}],\n",
              " 'src/pages': [{'findings': []},\n",
              "  {'findings': []},\n",
              "  {'findings': []},\n",
              "  {'findings': []},\n",
              "  {'findings': []}],\n",
              " 'src/types': [{'findings': []},\n",
              "  {'findings': []},\n",
              "  {'findings': []},\n",
              "  {'findings': []},\n",
              "  {'findings': []}]}"
            ]
          },
          "execution_count": 11,
          "metadata": {},
          "output_type": "execute_result"
        }
      ],
      "source": [
        "find2"
      ]
    }
  ],
  "metadata": {
    "colab": {
      "provenance": []
    },
    "kernelspec": {
      "display_name": "env",
      "language": "python",
      "name": "python3"
    },
    "language_info": {
      "codemirror_mode": {
        "name": "ipython",
        "version": 3
      },
      "file_extension": ".py",
      "mimetype": "text/x-python",
      "name": "python",
      "nbconvert_exporter": "python",
      "pygments_lexer": "ipython3",
      "version": "3.12.0"
    }
  },
  "nbformat": 4,
  "nbformat_minor": 0
}
